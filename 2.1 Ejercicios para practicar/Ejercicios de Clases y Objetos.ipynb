{
 "cells": [
  {
   "attachments": {},
   "cell_type": "markdown",
   "metadata": {},
   "source": [
    "# Ejercicios de Clases y Objetos"
   ]
  },
  {
   "cell_type": "markdown",
   "metadata": {},
   "source": [
    "## Ejercicio 1A\n",
    "\n",
    "Crea una clase de Python llamado ``Automovil`` que contenga, como atributos,  ``velocidad_max``, ``marca``, ``combustible`` y ``kilometraje``. Esta clase la utilizará una API de una tienda online de coches de segunda mano, de tal forma que la persona que quiera vender su coche tenga que introducir estos parámetros cuando ponga su coche a la venta en dicha plataforma."
   ]
  },
  {
   "cell_type": "code",
   "execution_count": null,
   "metadata": {},
   "outputs": [],
   "source": []
  },
  {
   "cell_type": "markdown",
   "metadata": {},
   "source": [
    "Una vez creada tu clase, llámala introduciendo los datos de un coche. Por ej: un Jaguar, con velocidad máxima 375, de gasolina, y con 23.000 kilémtros de kilometraje."
   ]
  },
  {
   "cell_type": "code",
   "execution_count": null,
   "metadata": {},
   "outputs": [],
   "source": []
  },
  {
   "cell_type": "markdown",
   "metadata": {},
   "source": [
    "## Ejercicio 1B\n",
    "\n",
    "Partiendo de la clase creada en el [ejercicio 1A](#ejercicio-1a), crea una clase \"hija\" llamada ``Bus``, la cual heredará todos los atributos y métodos de la clase ``Automovil``. "
   ]
  },
  {
   "cell_type": "markdown",
   "metadata": {},
   "source": [
    "Además, como eres el programador de esta tienda online de coches, necesitas añadir algún atributo que tienen los autobuses y que no tienen otros vehículos, en concreto, el atributo es ``capacidad_bus``. Por defecto, esta variable debe de tener un valor de ``50``."
   ]
  },
  {
   "cell_type": "code",
   "execution_count": null,
   "metadata": {},
   "outputs": [],
   "source": []
  },
  {
   "cell_type": "markdown",
   "metadata": {},
   "source": [
    "Una vez creada tu clase, llámala introduciendo los datos de un autobús. Por ej: un Volvo, con velocidad máxima 180, de gasolina, con 190.000 kilémtros de kilometraje, y con una capacidad de 55 asientos."
   ]
  },
  {
   "cell_type": "code",
   "execution_count": null,
   "metadata": {},
   "outputs": [],
   "source": []
  },
  {
   "cell_type": "markdown",
   "metadata": {},
   "source": [
    "Crea un método para estimar el número de ventanas que tiene el autobús, sabiendo que de media hay una ventana cada 4 asientos. Este método debe llamarse ``window_estimation`` y debe devolver un una frase (un print) donde diga la estimación y el porqué. "
   ]
  },
  {
   "cell_type": "code",
   "execution_count": null,
   "metadata": {},
   "outputs": [],
   "source": []
  },
  {
   "cell_type": "markdown",
   "metadata": {},
   "source": [
    "Cuántas ventanas tiene el Volvo aproximadamente?"
   ]
  },
  {
   "cell_type": "code",
   "execution_count": null,
   "metadata": {},
   "outputs": [],
   "source": []
  },
  {
   "cell_type": "markdown",
   "metadata": {},
   "source": [
    "## Ejercicio 2A\n",
    "\n",
    "1. Crea una clase llamada ``CuentaBancaria``, la cual debe de tener dos atributos: ``titular`` y ``saldo``.  El segundo atributo debe ser __privado__. \n",
    "2. Crea un método dentro de la clase que se llame ``depositar``, y que reciba un argumento ``cantidad``. \n",
    "- Si la cantidad no es mayor que cero, haz un print que avise a navegantes de que la operación parece errónea. \n",
    "- Si la cantidad es mayor que cero, aumenta el saldo e imprime la cantidad depositada para que el navegante tenga ese extra feedback. \n",
    "3. Crea un método dentro de la clase que se llame ``retirar``, y que reciba un argumento ``cantidad``. \n",
    "- Si la cantidad no es menor que cero, haz un print que avise a navegantes de que la operación parece errónea. \n",
    "- Si la cantidad es menor que cero y el saldo es suficiente para afrontar esta retirada de dinero, disminuye el saldo e imprime la cantidad depositada para que el navegante tenga ese extra feedback. \n",
    "- Si la cantidad es menor que cero pero no hay saldo suficiente en la cuenta para esa retirada de dinero, imprime un mensaje para avisar que esta operación no se puede realizar por saldo insuficiente."
   ]
  },
  {
   "cell_type": "code",
   "execution_count": null,
   "metadata": {},
   "outputs": [],
   "source": []
  },
  {
   "cell_type": "code",
   "execution_count": null,
   "metadata": {},
   "outputs": [],
   "source": []
  },
  {
   "cell_type": "markdown",
   "metadata": {},
   "source": [
    "## Ejercicio 2B\n",
    "\n",
    "Crea un método para obtener el saldo, a pesar de que sea un atribudo privado"
   ]
  },
  {
   "cell_type": "code",
   "execution_count": null,
   "metadata": {},
   "outputs": [],
   "source": []
  },
  {
   "cell_type": "code",
   "execution_count": null,
   "metadata": {},
   "outputs": [],
   "source": []
  },
  {
   "cell_type": "markdown",
   "metadata": {},
   "source": [
    "## Ejercicio 3\n",
    "Somos una empresa que tiene varias tiendas de electrodomesticos. Necesitamos un programa para manejar las tiendas, ver las ventas que han tenido, cuántos empleados hay, etc... Para ello vamos a modelizar la tienda en una clase, que tendrá las siguientes características:\n",
    "* Nombre clase: \"Tienda\"\n",
    "* Atributos comunes:\n",
    "    * Tipo: \"Electrodomésticos\"\n",
    "    * Abierta: True\n",
    "* Atributos propios de cada tienda:\n",
    "    * Nombre - String\n",
    "    * Dirección - String\n",
    "    * Número de empleados - int\n",
    "    * Ventas ultimos 3 meses - Lista de 3 numeros\n",
    "* Método para calcular las ventas de todos los meses, que devuelva un numero con todas las ventas.\n",
    "* Método que calcula la media de ventas de los ultimos meses, por empleado\n",
    "* Método que devuelve en un string el nombre de la tienda, junto con su dirección.\n",
    "* Método que obtiene las ventas del último mes.\n",
    "* Método para dar una proyección de las ventas en caso de haber invertido X dinero en marketing en esa tienda. Siendo X el parámetro de entrada. Si X es menor de 1000, las ventas de los ultimos 3 meses hubiesen sido de (1.2 x ventas), si es mayor o igual de 1000, las ventas hubiesen sido de (1.5 x venta). El método reescribe el atributo de ventas en los últimos 3 meses, y además devuelve las ventas con el aumento.\n",
    "\n",
    "Implementa la clase \"Tienda\""
   ]
  },
  {
   "cell_type": "code",
   "execution_count": null,
   "metadata": {},
   "outputs": [],
   "source": []
  },
  {
   "cell_type": "markdown",
   "metadata": {},
   "source": [
    "Una vez creada la clase ``Tienda``, \n",
    "\n",
    "1. Crea tres tiendas con datos inventados\n",
    "2. Comprueba en al menos una de ellas, todo lo implementado en la clase tienda (sus atributos, media de ventas, ventas/empleado...)\n",
    "3. Calcula las ventas del último mes de todas las tiendas. Para ello usa el bucle `for`\n",
    "4. Imprime por pantalla los nombres de las tiendas cuya dirección lleve el string \"Avenida\"\n",
    "5. Seguro que ya has hecho este apartado... Documenta la clase :)"
   ]
  },
  {
   "cell_type": "code",
   "execution_count": null,
   "metadata": {},
   "outputs": [],
   "source": []
  },
  {
   "cell_type": "markdown",
   "metadata": {},
   "source": [
    "## Ejercicio 4\n",
    "\n",
    "En este ejercicio vamos a implementar una clase ``Perro`` en Python. La clase tiene las siguientes características:\n",
    "* Cosas que sabemos seguro que tiene un perro\n",
    "    * Tiene 4 patas\n",
    "    * 2 orejas\n",
    "    * 2 ojos\n",
    "    * Una velocidad de 0. Por defecto, el perro está parado\n",
    "* Cuando se inicialice:\n",
    "    * El perro será de una determinada raza\n",
    "    * Por defecto tendrá pelo \"Marrón\", a no ser que se diga lo contrario.\n",
    "    * Por defecto no tendrá dueño, a no ser que se diga lo contrario.\n",
    "    \n",
    "* Dispondrá también de un método llamado andar, que tiene un argumento de entrada (aumento_velocidad). Este valor se le sumará a la velocidad que ya llevaba el perro.\n",
    "* Necesita otro método (parar), donde pondremos la velocidad a 0.\n",
    "* Otro método llamado \"ladrar\", que tendrá un argumento de entrada, y la salida será el siguiente string: \"GUAU!\" + el argumento de entrada.\n",
    "\n",
    "\n",
    "Se pide:\n",
    "* Implementa la clase *Perro*\n",
    "* Crea un objeto de tipo *Perro*, sin dueño\n",
    "* Comprueba que están bien todos sus atributos\n",
    "* Prueba que ande, y comprueba su velocidad\n",
    "* Páralo\n",
    "* Documenta la clase *Perro*"
   ]
  },
  {
   "cell_type": "code",
   "execution_count": null,
   "metadata": {},
   "outputs": [],
   "source": []
  },
  {
   "cell_type": "code",
   "execution_count": null,
   "metadata": {},
   "outputs": [],
   "source": []
  },
  {
   "cell_type": "code",
   "execution_count": null,
   "metadata": {},
   "outputs": [],
   "source": []
  }
 ],
 "metadata": {
  "kernelspec": {
   "display_name": "PSP",
   "language": "python",
   "name": "python3"
  },
  "language_info": {
   "codemirror_mode": {
    "name": "ipython",
    "version": 3
   },
   "file_extension": ".py",
   "mimetype": "text/x-python",
   "name": "python",
   "nbconvert_exporter": "python",
   "pygments_lexer": "ipython3",
   "version": "3.11.5"
  },
  "vscode": {
   "interpreter": {
    "hash": "9a4c422b798582b02df866c5c5d9dc23a4a361c5eb74efff0524622b0eb68383"
   }
  }
 },
 "nbformat": 4,
 "nbformat_minor": 4
}
