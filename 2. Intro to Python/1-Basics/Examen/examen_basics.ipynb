{
 "cells": [
  {
   "cell_type": "markdown",
   "metadata": {},
   "source": [
    "# PYTHON BASICS\n",
    "\n",
    "----\n",
    "\n",
    "Este examen se evaluará de tal forma que se vea la maestría del alumno sobre Python. Esto se ve no solamente con el código bien elaborado, sino con comentarios sobre el código. Se debe demostrar los conocimientos adquiridos en clase.\n",
    "\n",
    "Se evaluará:\n",
    "- Que se haya llegado a una solución (60%)\n",
    "- Que se haya llegado a soluciones creativas, no en todas las preguntas, sino en aquellas en las que sea apropiado, mostrando una forma alternativa de resolver un apartado (30%)\n",
    "- Documentación del código - comentarios - y claridad en el mismo (10%)\n",
    "\n",
    "Atención: Solo se aceptan entregas en formato html\n",
    "\n",
    "Recuerda:\n",
    "- El uso de Inteligencia Artifical generativa revierte en un suspenso automático\n",
    "- Cualquier comunicación con compañeros revierte en un suspenso automático\n",
    "- Está permitido consultar documentación"
   ]
  },
  {
   "cell_type": "markdown",
   "metadata": {},
   "source": [
    "![imagen](./img/ejercicios.png)"
   ]
  },
  {
   "cell_type": "markdown",
   "metadata": {},
   "source": [
    "## Ejercicio 1 | Python\n",
    "Imprime por pantalla esta cita con el siguiente formato\n",
    "\n",
    "![imagen](./img/frase_Einstein.PNG)"
   ]
  },
  {
   "cell_type": "code",
   "execution_count": 9,
   "metadata": {},
   "outputs": [
    {
     "name": "stdout",
     "output_type": "stream",
     "text": [
      "¿Por qué esta magnífica tecnología científica,\n",
      "\tque ahorra trabajo y nos hace la vida más fácil,\n",
      "\t\t nos aporta tan poca felicidad?\n",
      "\t\t\tLa respuesta es está, simplemente: porque aún no hemos aprendido a usarla con tino.\n",
      "\n",
      "\"Albert Einstein\"\n"
     ]
    }
   ],
   "source": [
    "# Utilizamos tanto tabulador \"\\t\" como salto de línea \"\\n\"\n",
    "\n",
    "print(\"¿Por qué esta magnífica tecnología científica,\\n\\tque ahorra trabajo y nos hace la vida más fácil,\\n\\t\\t nos aporta tan poca felicidad?\")\n",
    "print(\"\\t\\t\\tLa respuesta es está, simplemente: porque aún no hemos aprendido a usarla con tino.\")\n",
    "print(\"\\n\\\"Albert Einstein\\\"\")"
   ]
  },
  {
   "cell_type": "markdown",
   "metadata": {},
   "source": [
    "## Ejercicio 2 | Python\n",
    "1. Escribe el nombre de la calle de tu domicilio en una variable\n",
    "2. Escribe el numero de la calle en otra\n",
    "3. Ciudad en una tercera\n",
    "4. Codigo postal en la cuarta variable\n",
    "5. Crea una quinta variable que concatene todas ellas\n",
    "6. Imprimela por pantalla"
   ]
  },
  {
   "cell_type": "code",
   "execution_count": 13,
   "metadata": {},
   "outputs": [],
   "source": [
    "nombrecalle = \"Calle Pajares\"\n",
    "numerocalle = \"28\"\n",
    "ciudad = \"Madrid\"\n",
    "codigopostal = \"28400\""
   ]
  },
  {
   "cell_type": "code",
   "execution_count": 14,
   "metadata": {},
   "outputs": [
    {
     "name": "stdout",
     "output_type": "stream",
     "text": [
      "Calle Pajares, 28, Madrid, 28400\n"
     ]
    }
   ],
   "source": [
    "# Con f-string, que es la solución más común\n",
    "\n",
    "concatenacion = f\"{nombrecalle}, {numerocalle}, {ciudad}, {codigopostal}\"\n",
    "print(concatenacion)"
   ]
  },
  {
   "cell_type": "code",
   "execution_count": 12,
   "metadata": {},
   "outputs": [
    {
     "name": "stdout",
     "output_type": "stream",
     "text": [
      "Calle Pajares, 28, Madrid, 28400\n"
     ]
    }
   ],
   "source": [
    "# Podemos utilizar %s también\n",
    "\n",
    "concatenacion = \"%s, %s, %s, %s\" %(nombrecalle, numerocalle, ciudad, codigopostal)\n",
    "print(concatenacion)"
   ]
  },
  {
   "cell_type": "markdown",
   "metadata": {},
   "source": [
    "## Ejercicio 3 | Python\n",
    "Replica el output del ejercicio dos, pero está vez sin usar una variable intermedia que concatene todas las demas. Realiza este ejercicio en una línea, con un  único `print`"
   ]
  },
  {
   "cell_type": "code",
   "execution_count": 14,
   "metadata": {},
   "outputs": [
    {
     "name": "stdout",
     "output_type": "stream",
     "text": [
      "Calle Pajares, 28, Madrid, 28400\n"
     ]
    }
   ],
   "source": [
    "print(nombrecalle +\", \"+numerocalle +\", \"+ciudad+\", \"+codigopostal)"
   ]
  },
  {
   "cell_type": "code",
   "execution_count": 15,
   "metadata": {},
   "outputs": [
    {
     "name": "stdout",
     "output_type": "stream",
     "text": [
      "Calle Pajares 28 Madrid 28400\n"
     ]
    }
   ],
   "source": [
    "print(f\"{nombrecalle} {numerocalle} {ciudad} {codigopostal}\")"
   ]
  },
  {
   "cell_type": "markdown",
   "metadata": {},
   "source": [
    "## Ejercicio 4 | Python\n",
    "Realiza un conversor de grados Celsius a Fahrenheit. El conversor tiene que recibir el input del usuario y devolver la conversión.\n",
    "\n",
    "La conversión de grados sigue la siguiente fórmula: F = C × (9 / 5) + 32 "
   ]
  },
  {
   "cell_type": "code",
   "execution_count": 67,
   "metadata": {},
   "outputs": [
    {
     "name": "stdout",
     "output_type": "stream",
     "text": [
      "37.4\n"
     ]
    }
   ],
   "source": [
    "celsius = input(\"Celsius = \")\n",
    "far = float(celsius) * (9/5) + 32\n",
    "print(f\"Fahrenheit = {far}\")"
   ]
  },
  {
   "cell_type": "markdown",
   "metadata": {},
   "source": [
    "## Ejercicio 5 | Python\n",
    "* Crea dos variables numericas: un `int` y un `float`\n",
    "* Comprueba sus tipos\n",
    "* Sumalas en otra nueva\n",
    "* Elimina las dos primeras variables creadas"
   ]
  },
  {
   "cell_type": "code",
   "execution_count": 17,
   "metadata": {},
   "outputs": [],
   "source": [
    "i = 40\n",
    "flo = 40.5\n",
    "suma = flo + float(i)\n",
    "del(i,flo)"
   ]
  },
  {
   "cell_type": "code",
   "execution_count": 18,
   "metadata": {},
   "outputs": [
    {
     "name": "stdout",
     "output_type": "stream",
     "text": [
      "<class 'int'>\n",
      "<class 'float'>\n",
      "La suma es: 15.75\n"
     ]
    }
   ],
   "source": [
    "numero_int = 10\n",
    "numero_float = 5.75\n",
    "print(type(numero_int))\n",
    "print(type(numero_float))\n",
    "suma = numero_int + numero_float\n",
    "print(f\"La suma es:\", suma)\n",
    "del numero_float\n",
    "del numero_int"
   ]
  },
  {
   "cell_type": "markdown",
   "metadata": {},
   "source": [
    "## Ejercicio 6 | Python\n",
    "Escribe un programa para pasar de grados a radianes. Hay que usar `input`, así como la librería ``math``. Recuerda que la conversión se realiza mediante\n",
    "\n",
    "$$ radianes = grados * \\frac{\\pi}{180} $$"
   ]
  },
  {
   "cell_type": "code",
   "execution_count": 20,
   "metadata": {},
   "outputs": [
    {
     "name": "stdout",
     "output_type": "stream",
     "text": [
      "6.0 grados equivalen a 0.1 radianes.\n"
     ]
    }
   ],
   "source": [
    "import math\n",
    "grados = float(input(\"Escribe el numero en radianes: \"))\n",
    "radianes = grados * (math.pi / 180)\n",
    "\n",
    "# redondeamos\n",
    "radianes = round(radianes, 2)\n",
    "print(f\"{grados} grados equivalen a {radianes} radianes.\")"
   ]
  },
  {
   "cell_type": "markdown",
   "metadata": {},
   "source": [
    "## Ejercicio 7 | Python\n",
    "Escribe un programa que calcule el area de un paralelogramo (base x altura). Utiliza `input`."
   ]
  },
  {
   "cell_type": "code",
   "execution_count": 63,
   "metadata": {},
   "outputs": [
    {
     "name": "stdout",
     "output_type": "stream",
     "text": [
      "9\n"
     ]
    }
   ],
   "source": [
    "a = int(input(\"Introduce área: \"))\n",
    "b = int(input(\"Introduce base: \"))\n",
    "\n",
    "area = a * b\n",
    "print(\"El área del rectángulo es: \", area)"
   ]
  },
  {
   "cell_type": "markdown",
   "metadata": {},
   "source": [
    "## Ejercicio 8 | Markdown\n",
    "\n",
    "Escribe, en Markdwon, la siguiente tabla:\n",
    "\n",
    "![imagen](./img/table.jpg)"
   ]
  },
  {
   "cell_type": "markdown",
   "metadata": {},
   "source": [
    "|   A   |   B   | A AND B | A OR B | NOT A |\n",
    "|-------|-------|---------|--------|-------|\n",
    "| False | False | False   |False   |True   |\n",
    "| False | True  | False   |True    |True   |\n",
    "| True  | False | False   |True    |False  |\n",
    "| True  | True  | True    |True    |False  |\n"
   ]
  },
  {
   "cell_type": "markdown",
   "metadata": {},
   "source": [
    "## Ejercicio 9 | Python\n",
    "Tenemos las siguientes variables:\n",
    "\n",
    "```Python\n",
    "A = 4\n",
    "B = \"Text\"\n",
    "C = 4.1\n",
    "```\n",
    "\n",
    "Comprueba:\n",
    "1. Si A y B son equivalentes\n",
    "2. Si A y C NO son equivalentes\n",
    "3. Si A es mayor que C \n",
    "4. Si C es menor o igual que A\n",
    "5. Si B NO es equivalente a C"
   ]
  },
  {
   "cell_type": "code",
   "execution_count": 23,
   "metadata": {},
   "outputs": [
    {
     "name": "stdout",
     "output_type": "stream",
     "text": [
      "False\n",
      "True\n",
      "False\n",
      "False\n",
      "True\n"
     ]
    }
   ],
   "source": [
    "A = 4\n",
    "B = \"Text\"\n",
    "C = 4.1\n",
    "\n",
    "print(A == B)  \n",
    "print(A != C) \n",
    "print(A > C)   \n",
    "print(C <= A)  \n",
    "print(B != C)"
   ]
  },
  {
   "cell_type": "markdown",
   "metadata": {},
   "source": [
    "## Ejercicio 10 | Python\n",
    "Crea un programa donde se recojan tres inputs del usuario - con ``input``-, y que el output del programa nos indique_\n",
    "- si todos los inputs introducidos por el usuario son iguales o no\n",
    "- si al menos dos inputs introducidos por el usuario sí que son iguales"
   ]
  },
  {
   "cell_type": "code",
   "execution_count": 24,
   "metadata": {},
   "outputs": [
    {
     "name": "stdout",
     "output_type": "stream",
     "text": [
      "Todos son iguales =  True\n",
      "Dos son iguales =  True\n"
     ]
    }
   ],
   "source": [
    "b = input()\n",
    "a = input()\n",
    "c = input()\n",
    "\n",
    "print(\"Todos son iguales = \",a == c and c == b and b == a)\n",
    "print(\"Dos son iguales = \",a == c or c == b and b == a) "
   ]
  },
  {
   "cell_type": "markdown",
   "metadata": {},
   "source": [
    "## Ejercicio 11 | Python\n",
    "Comprueba:\n",
    "- si el resto de dividir 7 entre 3 es 2\n",
    "- si el tipo de ``'10'`` es igual al tipo de `` 10``\n",
    "- si el integer de ``9.8`` es igual a ``10``"
   ]
  },
  {
   "cell_type": "code",
   "execution_count": 27,
   "metadata": {},
   "outputs": [
    {
     "name": "stdout",
     "output_type": "stream",
     "text": [
      "El resto de dividir 7 entre 3 es 2: False\n",
      "El tipo de '10' es igual al tipo de 10: False\n",
      "El integer de 9.8 es igual a 10: False\n"
     ]
    }
   ],
   "source": [
    "operacion1 = 7 % 3 == 2\n",
    "operacion2 = type('10') == type(10)\n",
    "operacion3 = int(9.8) == 10\n",
    "\n",
    "print(f\"El resto de dividir 7 entre 3 es 2: {operacion1}\")\n",
    "print(f\"El tipo de '10' es igual al tipo de 10: {operacion2}\")\n",
    "print(f\"El integer de 9.8 es igual a 10: {operacion3}\")"
   ]
  },
  {
   "cell_type": "markdown",
   "metadata": {},
   "source": [
    "## Ejercicio 12 | Python\n",
    "Crea un programa que recoja el número de años en una variable llamada ``years``. El output del programa debe ser el número de segundos que han transcurrido en esos años. \n",
    "\n",
    "¿Cuántos segundos han transcurrido en 25 años?"
   ]
  },
  {
   "cell_type": "code",
   "execution_count": 29,
   "metadata": {},
   "outputs": [
    {
     "name": "stdout",
     "output_type": "stream",
     "text": [
      "Han transcurrido 788,400,000 segundos en 25 años.\n"
     ]
    }
   ],
   "source": [
    "years = 25 # int(input('Introduce tu año))\n",
    "\n",
    "segundosAño = 365 * 24 * 60 * 60 \n",
    "segundosTotales = years * segundosAño\n",
    "\n",
    "# Formateamos los segundos totales con separador de miles por legibilidad\n",
    "print(f\"Han transcurrido {'{:,}'.format(segundosTotales)} segundos en {years} años.\")"
   ]
  },
  {
   "cell_type": "markdown",
   "metadata": {},
   "source": [
    "## Ejercicio 13 | Python\n",
    "Para este ejercicio vamos a poner en práctica [las funciones built in](https://docs.python.org/3/library/functions.html).\n",
    "\n",
    "1. Calcula el máximo de la lista: [4, 6, 8, -1]\n",
    "2. Suma todos los elementos de la lista anterior\n",
    "3. Redondea este float a 3 dígitos decimales: 63.451256965\n",
    "4. Valor absoluto de: -74"
   ]
  },
  {
   "cell_type": "code",
   "execution_count": 30,
   "metadata": {},
   "outputs": [
    {
     "name": "stdout",
     "output_type": "stream",
     "text": [
      "1) Máximo de la lista: 8\n",
      "2) Suma de la lista: 17\n",
      "3) Float redondeado a 3 dígitos: 63.451\n",
      "Valor absoluto de -74: 74\n"
     ]
    }
   ],
   "source": [
    "lista = [4, 6, 8, -1]\n",
    "\n",
    "# 1\n",
    "maximo = max(lista)\n",
    "print(f\"1) Máximo de la lista: {maximo}\")\n",
    "\n",
    "# 2\n",
    "suma = sum(lista)\n",
    "print(f\"2) Suma de la lista: {suma}\")\n",
    "\n",
    "# 3\n",
    "float = 63.451256965\n",
    "redondear = round(float, 3)\n",
    "print(f\"3) Float redondeado a 3 dígitos: {redondear}\")\n",
    "\n",
    "# 4\n",
    "valorAbsoluto = abs(-74) \n",
    "print(f\"4) Valor absoluto de -74: {valorAbsoluto}\")"
   ]
  },
  {
   "cell_type": "code",
   "execution_count": 31,
   "metadata": {},
   "outputs": [
    {
     "data": {
      "text/plain": [
       "74.0"
      ]
     },
     "execution_count": 31,
     "metadata": {},
     "output_type": "execute_result"
    }
   ],
   "source": [
    "# Alternativa para el 4º apartado\n",
    "\n",
    "import math\n",
    "math.fabs(-74)"
   ]
  },
  {
   "cell_type": "markdown",
   "metadata": {},
   "source": [
    "## Ejercicio 14 | Python\n",
    "Para el siguiente string se pide imprimir por pantalla los siguientes casos\n",
    "\n",
    "    \"A quien madruga, dios le ayuda\"\n",
    "\n",
    "1. Pasarlo todo a mayusculas\n",
    "2. Pasarlo todo a minusculas\n",
    "3. Pasar a mayusculas solo las iniciales de las palabras\n",
    "4. Crea una lista dividiendolo por sus espacios\n",
    "5. Sustituye las comas `,` por puntos y comas `;`\n",
    "6. Elimina las `a` minusculas"
   ]
  },
  {
   "cell_type": "code",
   "execution_count": 42,
   "metadata": {},
   "outputs": [
    {
     "name": "stdout",
     "output_type": "stream",
     "text": [
      "1 A QUIEN MADRUGA, DIOS LE AYUDA\n",
      "2 a quien madruga, dios le ayuda\n",
      "3 A Quien Madruga, Dios Le Ayuda\n",
      "4 ['A', 'quien', 'madruga,', 'dios', 'le', 'ayuda']\n",
      "5 A quien madruga; dios le ayuda\n",
      "6 A quien mdrug, dios le yud\n"
     ]
    }
   ],
   "source": [
    "frase = \"A quien madruga, dios le ayuda\"\n",
    "\n",
    "# 1\n",
    "print(1, frase.upper())\n",
    "\n",
    "# 2\n",
    "print(2, frase.lower())\n",
    "\n",
    "# 3\n",
    "print(3, frase.title())\n",
    "\n",
    "# 4\n",
    "frase_split = frase.split()\n",
    "print(4, frase_split)\n",
    "\n",
    "# 5\n",
    "replacing = frase.replace(\",\", \";\")\n",
    "print(5, replacing)\n",
    "\n",
    "# 6\n",
    "replacing = frase.replace(\"a\", \"\")\n",
    "print(6, replacing)"
   ]
  },
  {
   "cell_type": "markdown",
   "metadata": {},
   "source": [
    "## Ejercicio 15 | Python\n",
    "1. Crea una lista con 3 elementos numéricos\n",
    "2. Añade un cuarto elemento\n",
    "3. Calcula la suma de todos\n",
    "4. Elimina el segundo elemento de la lista\n",
    "5. Añade otro elemento en la posicion 3 de la lista\n",
    "6. Crea otra lista con 4 elementos y concaténala a la que ya tenías."
   ]
  },
  {
   "cell_type": "code",
   "execution_count": 57,
   "metadata": {},
   "outputs": [
    {
     "name": "stdout",
     "output_type": "stream",
     "text": [
      "1 [1, 2, 3]\n",
      "1 Esta variable es de tipo: <class 'list'>\n",
      "1 Esta lista tiene 3 elementos\n",
      "\n",
      " 2 [1, 2, 3, 4]\n",
      "3 La suma de todos los elementos es de 10\n",
      "4 [2, 3, 4]\n",
      "5 [2, 3, 4, 5]\n",
      "6 [2, 3, 4, 5, 6, 7, 8, 9]\n"
     ]
    }
   ],
   "source": [
    "# 1\n",
    "lista = [1,2,3]\n",
    "print(1, lista)\n",
    "print(1, f\"Esta variable es de tipo: {type(lista)}\")\n",
    "print(1, f\"Esta lista tiene {len(lista)} elementos\")\n",
    "\n",
    "# 2\n",
    "lista.append(4)\n",
    "print('\\n', 2, lista)\n",
    "\n",
    "# 3\n",
    "suma = sum(lista)\n",
    "print(3, f\"La suma de todos los elementos es de {suma}\")\n",
    "\n",
    "# 4\n",
    "lista.remove(1)\n",
    "print(4, lista)\n",
    "\n",
    "# 5\n",
    "lista.insert(3, 5)\n",
    "print(5, lista)\n",
    "\n",
    "# 6\n",
    "lista_concat = lista + [6,7,8,9]\n",
    "print(6, lista_concat)"
   ]
  },
  {
   "cell_type": "markdown",
   "metadata": {},
   "source": [
    "-----------------\n",
    "\n",
    "Recuerda entregar el notebook en formato html. Puedes hacerlo con la librería \"nbconvert\" desde el cmd en la ruta del documento que quieres transformar de ipynb a html:\n",
    "\n",
    "> jupyter nbconvert --to html --execute examen_basics.ipynb\n"
   ]
  }
 ],
 "metadata": {
  "kernelspec": {
   "display_name": "Python 3",
   "language": "python",
   "name": "python3"
  },
  "language_info": {
   "codemirror_mode": {
    "name": "ipython",
    "version": 3
   },
   "file_extension": ".py",
   "mimetype": "text/x-python",
   "name": "python",
   "nbconvert_exporter": "python",
   "pygments_lexer": "ipython3",
   "version": "3.7.4"
  }
 },
 "nbformat": 4,
 "nbformat_minor": 2
}
