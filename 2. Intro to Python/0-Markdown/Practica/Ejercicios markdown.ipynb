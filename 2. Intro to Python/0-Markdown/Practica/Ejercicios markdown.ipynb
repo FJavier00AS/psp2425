{
 "cells": [
  {
   "cell_type": "markdown",
   "metadata": {},
   "source": [
    "![imagen](./img/ejercicios.png)\n",
    "# Markdown\n",
    "\n",
    "## Ejercicio 1\n",
    "Vamos a aplicar los conocimientos adquiridos en este notebook, intentando reproducir la siguiente imagen en markdown. En el link va la página: https://www.kaggle.com/\n",
    "\n",
    "**TIP**: en [este enlace](https://www.markdownguide.org/basic-syntax/) tienes más ejemplos, por si te atascas con algo :)\n"
   ]
  },
  {
   "cell_type": "markdown",
   "metadata": {},
   "source": [
    "![imagen](./img/md_ejercicio1.png)"
   ]
  },
  {
   "cell_type": "markdown",
   "metadata": {},
   "source": []
  },
  {
   "cell_type": "markdown",
   "metadata": {},
   "source": [
    "## Ejercicio 2\n",
    "Para este ejercicio vas a crear dos nuevos elementos que no hemos visto en la teoría: una tabla y una fórmula. Busca en la web la sintaxis y replica ambos elementos. Ojo con los espacios en blanco entre la tabla y la fórmula"
   ]
  },
  {
   "cell_type": "markdown",
   "metadata": {},
   "source": [
    "<div style=\"text-align:center\"><img src=\"./img/md_ejercicio2.png\" /></div>"
   ]
  },
  {
   "cell_type": "markdown",
   "metadata": {},
   "source": []
  },
  {
   "cell_type": "markdown",
   "metadata": {},
   "source": [
    "## Ejercicio BONUS (+2 puntos)\n",
    "\n",
    "Crea un README para el proyecto **weatherApp**.\n",
    "\n",
    "\"WeatherApp\" es una aplicación web que muestra el pronóstico del tiempo para cualquier ciudad del mundo. Utiliza una API de servicios meteorológicos para obtener información actualizada y muestra detalles como la temperatura, la humedad, el viento y el pronóstico de los próximos días. El objetivo de este proyecto es proporcionar una interfaz simple y fácil de usar para que los usuarios puedan consultar rápidamente el clima en su ciudad o en cualquier otro lugar.\n",
    "\n",
    "Requisitos del README:\n",
    "\n",
    "- Debe incluir al menos dos títulos.\n",
    "- Debe contener una imagen.\n",
    "- Debe incluir un enlace.\n",
    "- Debe tener un fragmento de código inventado.\n",
    "\n",
    "Este readme debe presentarse en un documento ``.md``"
   ]
  }
 ],
 "metadata": {
  "kernelspec": {
   "display_name": "Python 3",
   "language": "python",
   "name": "python3"
  },
  "language_info": {
   "codemirror_mode": {
    "name": "ipython",
    "version": 3
   },
   "file_extension": ".py",
   "mimetype": "text/x-python",
   "name": "python",
   "nbconvert_exporter": "python",
   "pygments_lexer": "ipython3",
   "version": "3.8.3"
  }
 },
 "nbformat": 4,
 "nbformat_minor": 4
}
